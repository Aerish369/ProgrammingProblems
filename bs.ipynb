{
 "cells": [
  {
   "cell_type": "code",
   "execution_count": 11,
   "metadata": {},
   "outputs": [
    {
     "ename": "SyntaxError",
     "evalue": "invalid syntax (1154116231.py, line 8)",
     "output_type": "error",
     "traceback": [
      "\u001b[1;36m  Cell \u001b[1;32mIn[11], line 8\u001b[1;36m\u001b[0m\n\u001b[1;33m    return high=mid-1\u001b[0m\n\u001b[1;37m               ^\u001b[0m\n\u001b[1;31mSyntaxError\u001b[0m\u001b[1;31m:\u001b[0m invalid syntax\n"
     ]
    }
   ],
   "source": [
    "def binary_search(low,high,condition):\n",
    "    while low<high:\n",
    "        mid=(low+high)//2\n",
    "        result=condition(mid)\n",
    "        if result=='found':\n",
    "            return mid\n",
    "        elif result=='left':\n",
    "            return high=mid-1\n",
    "        elif result=='high':\n",
    "            return low=mid+1\n",
    "\n",
    "        \n",
    "def find_card(card,num)\n",
    "    def condition(mid):\n",
    "        if card[mid]==num:\n",
    "            return 'found'\n",
    "        elif card[mid]>num:\n",
    "            return 'left'\n",
    "        elif card[mid]<num:\n",
    "            return 'right'\n",
    "        \n",
    "    \n",
    "    return binary_search(0,len(card)-1,condition)\n",
    "\n",
    "\n",
    "x=[1,2,3,4,5,6,7,8,9,10]\n",
    "\n",
    "find_card(x,8)\n",
    "        "
   ]
  },
  {
   "cell_type": "code",
   "execution_count": null,
   "metadata": {},
   "outputs": [],
   "source": []
  }
 ],
 "metadata": {
  "kernelspec": {
   "display_name": "Python 3",
   "language": "python",
   "name": "python3"
  },
  "language_info": {
   "codemirror_mode": {
    "name": "ipython",
    "version": 3
   },
   "file_extension": ".py",
   "mimetype": "text/x-python",
   "name": "python",
   "nbconvert_exporter": "python",
   "pygments_lexer": "ipython3",
   "version": "3.11.3"
  },
  "orig_nbformat": 4
 },
 "nbformat": 4,
 "nbformat_minor": 2
}
